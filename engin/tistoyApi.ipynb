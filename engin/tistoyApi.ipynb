{
 "cells": [
  {
   "cell_type": "code",
   "execution_count": 1,
   "metadata": {},
   "outputs": [],
   "source": [
    "import requests\n",
    "\n",
    "class Tistory:\n",
    "    def __init__(self):\n",
    "        self.defaultParam = {\n",
    "            'access_token' : '',\n",
    "            'output' : 'json'\n",
    "        }\n",
    "        from secrets import Secret\n",
    "        self.secret = Secret()\n",
    "    def getAuthCode(self):\n",
    "        # this section will remake at frontend. this is poc code\n",
    "        # change redirectUrl for realservice url later\n",
    "        authCodeUrl = \"https://www.tistory.com/oauth/authorize\"\n",
    "        params = {\n",
    "            \"client_id\": self.secret.tistoryAppId,\n",
    "            \"redirect_uri\": \"http://ykarma1996.tistory.com/\",\n",
    "            \"response_type\": \"code\"\n",
    "        }\n",
    "        res = requests.get(authCodeUrl, params=params)\n",
    "        \n",
    "        # action this url at browser, and get AccessToken manually just now.\n",
    "        print (res.url)\n",
    "        \n",
    "    def getAccessToken(self, authCode=\"getFromClient\"):\n",
    "        authCode = input(\"authCode : \") # delete this later\n",
    "        \n",
    "        getTokenUrl = \"https://www.tistory.com/oauth/access_token\"\n",
    "        params = {\n",
    "            \"client_id\": self.secret.tistoryAppId,\n",
    "            \"client_secret\": self.secret.tistorySecretKey,\n",
    "            \"redirect_uri\": \"http://ykarma1996.tistory.com/\",\n",
    "            \"code\": authCode,\n",
    "            \"grant_type\": \"authorization_code\"\n",
    "        }\n",
    "        res  = requests.get(getTokenUrl, params=params)\n",
    "        self.defaultParam['access_token'] = res.text.split('=')[1]\n",
    "    \n",
    "    def getBlogList(self):\n",
    "        params = self.defaultParam\n",
    "        getBlogUrl = \"https://www.tistory.com/apis/blog/info\"\n",
    "        res = requests.get(getBlogUrl, params=params)\n",
    "        \n",
    "        # Object of key: 'blogName' value: 'blogTitle'\n",
    "        blogList = {}\n",
    "        for blog in res.json()['tistory']['item']['blogs']:\n",
    "            blogList[blog['name']] = blog['title']\n",
    "        \n",
    "        # Show to FrontEnd\n",
    "        print (blogList)\n",
    "        \n",
    "    def getcatego(self, blogName):\n",
    "        params = self.defaultParam\n",
    "        params['blogName'] = blogName\n",
    "        getcategoUrl = 'https://www.tistory.com/apis/category/list'\n",
    "        res = requests.get(getcategoUrl, params=params)\n",
    "        \n",
    "        # Object of key : 'catego id' value: 'catego name'\n",
    "        categoList = {}\n",
    "        for catego in res.json()['tistory']['item']['categories']:\n",
    "            categoList[catego['id']] = catego['name']\n",
    "        \n",
    "        print (categoList)\n",
    "    \n",
    "    def postContent(self, blogName, title, content, visibility, category, tag, acceptComment):\n",
    "        params = self.defaultParam\n",
    "        params['blogName'] = blogName\n",
    "        params['title'] = title\n",
    "        params['content'] = content\n",
    "        params['visibility'] = visibility\n",
    "        params['category'] = category\n",
    "        params['tag'] = tag\n",
    "        params['acceptComment'] = acceptComment\n",
    "        \n",
    "        postUrl = 'https://www.tistory.com/apis/post/write'\n",
    "        res = requests.post(postUrl, data=params)\n",
    "        \n",
    "        print (res.json()['tistory']['url'])\n"
   ]
  },
  {
   "cell_type": "code",
   "execution_count": 4,
   "metadata": {},
   "outputs": [
    {
     "name": "stdout",
     "output_type": "stream",
     "text": [
      "<h3 id=\"id-[confluencetotistory-1]API조사-단위목표\">단위목표</h3><ul><li><p>confluence api 조사</p></li><li><p>페이지, 스페이스 목록 정보 조회 api 확인</p></li><li><p>특정 페이지 <code>html</code> or <code>markdown</code> export api 확인 </p></li></ul><p></p><h3 id=\"id-[confluencetotistory-1]API조사-confluenceapi조사\">confluence api 조사</h3><ul><li><p>인증 구현</p></li></ul><ol><li><p>personal token 생성</p></li><li><p><code>&lt;로그인 이메일&gt;:&lt;토큰&gt;</code> 을 base64로 인코딩</p></li><li><p>Authorization 헤더에 Basic &lt;base64 인코딩 된 값&gt;을 추가하여 사용</p></li></ol><div class=\"code panel pdl conf-macro output-block\" data-hasbody=\"true\" data-macro-id=\"cd290408-af19-4bcb-8d92-9121104d976b\" data-macro-name=\"code\" style=\"border-width: 1px;\"><div class=\"codeContent panelContent pdl\">\n",
      "<pre class=\"syntaxhighlighter-pre\" data-syntaxhighlighter-params=\"brush: java; gutter: false; theme: Confluence\" data-theme=\"Confluence\">curl -H \"Authorization: Basic &lt;yourToken&gt;\" https://{confluenceBaseUrl}/rest/api/content</pre>\n",
      "</div></div><ul><li><p>space 목록 확인</p></li></ul><div class=\"table-wrap\"><table class=\"confluenceTable\" data-layout=\"default\"><colgroup><col style=\"width: 139.0px;\"/><col style=\"width: 432.0px;\"/><col style=\"width: 189.0px;\"/></colgroup><tbody><tr><th class=\"confluenceTh\"><p><strong>구분</strong></p></th><th class=\"confluenceTh\"><p><strong>정보</strong></p></th><th class=\"confluenceTh\"><p><strong>비고</strong></p></th></tr><tr><td class=\"confluenceTd\"><p>API 경로</p></td><td class=\"confluenceTd\"><p><code>https://&lt;baseurl&gt;/wiki/rest/api/space</code></p></td><td class=\"confluenceTd\"><p></p></td></tr><tr><td class=\"confluenceTd\"><p>매서드</p></td><td class=\"confluenceTd\"><p>GET</p></td><td class=\"confluenceTd\"><p></p></td></tr><tr><td class=\"confluenceTd\"><p>호출 목적</p></td><td class=\"confluenceTd\"><p>space의 name, key 쌍 확인</p></td><td class=\"confluenceTd\"><p></p></td></tr></tbody></table></div><ul><li><p>페이지 목록 조회</p></li></ul><div class=\"table-wrap\"><table class=\"confluenceTable\" data-layout=\"default\"><colgroup><col style=\"width: 139.0px;\"/><col style=\"width: 434.0px;\"/><col style=\"width: 187.0px;\"/></colgroup><tbody><tr><th class=\"confluenceTh\"><p><strong>구분</strong></p></th><th class=\"confluenceTh\"><p><strong>정보</strong></p></th><th class=\"confluenceTh\"><p><strong>비고</strong></p></th></tr><tr><td class=\"confluenceTd\"><p>API 경로</p></td><td class=\"confluenceTd\"><p><code>https://&lt;baseurl&gt;/wiki/rest/api/content</code></p></td><td class=\"confluenceTd\"><p></p></td></tr><tr><td class=\"confluenceTd\"><p>매서드</p></td><td class=\"confluenceTd\"><p>GET</p></td><td class=\"confluenceTd\"><p></p></td></tr><tr><td class=\"confluenceTd\"><p>Query 파라미터1</p></td><td class=\"confluenceTd\"><p>spaceKey</p></td><td class=\"confluenceTd\"><p>값: 조회할 space의 key</p></td></tr><tr><td class=\"confluenceTd\"><p>호출 목적</p></td><td class=\"confluenceTd\"><p>contents 들의 title 및 id 값 확인 </p></td><td class=\"confluenceTd\"><p></p></td></tr></tbody></table></div><p></p><h3 id=\"id-[confluencetotistory-1]API조사-xmlRPC\">xmlRPC</h3><p>페이지를 html로 랜더링해주는 REST API를 도저히 찾을수가 없어서, 관련 자료를 검색하던 중, xmlRPC API에는 관련 메서드가 있는듯 하여 찾아보았다. 이미 confluence Cloud에서는 5.5 버전에서 이미 지원이 종료된 API 기능 이었지만, API는 아직 동작 하지 않을까 싶어 시도해 보았으나, 한참 삽질 끝에 더 이상 동작하지 않는 API라는 것을 알게 되었다.</p><span class=\"confluence-embedded-file-wrapper image-center-wrapper\"><img class=\"confluence-embedded-image image-center\" data-base-url=\"https://geunsam2.atlassian.net/wiki\" data-height=\"171\" data-image-src=\"https://geunsam2.atlassian.net/wiki/download/attachments/8880168/image-20210317-161828.png?version=1&amp;modificationDate=1615997913577&amp;cacheVersion=1&amp;api=v2\" data-linked-resource-container-id=\"8880168\" data-linked-resource-container-version=\"9\" data-linked-resource-content-type=\"image/png\" data-linked-resource-default-alias=\"image-20210317-161828.png\" data-linked-resource-id=\"10518531\" data-linked-resource-type=\"attachment\" data-linked-resource-version=\"1\" data-media-id=\"6e63df73-ad98-44f8-b8ce-83275ab0f920\" data-media-type=\"file\" data-unresolved-comment-count=\"0\" data-width=\"496\" loading=\"lazy\" src=\"https://geunsam2.atlassian.net/wiki/download/attachments/8880168/image-20210317-161828.png?version=1&amp;modificationDate=1615997913577&amp;cacheVersion=1&amp;api=v2\"/></span><p></p><h3 id=\"id-[confluencetotistory-1]API조사-드디어페이지html추출성공\">드디어 페이지 html 추출 성공</h3><ul><li><p>페이지 html export</p></li></ul><div class=\"table-wrap\"><table class=\"confluenceTable\" data-layout=\"default\"><colgroup><col style=\"width: 139.0px;\"/><col style=\"width: 434.0px;\"/><col style=\"width: 187.0px;\"/></colgroup><tbody><tr><th class=\"confluenceTh\"><p><strong>구분</strong></p></th><th class=\"confluenceTh\"><p><strong>정보</strong></p></th><th class=\"confluenceTh\"><p><strong>비고</strong></p></th></tr><tr><td class=\"confluenceTd\"><p>API 경로</p></td><td class=\"confluenceTd\"><p><code>https://&lt;baseurl&gt;/wiki/rest/api/content/&lt;pageId&gt;</code></p></td><td class=\"confluenceTd\"><p></p></td></tr><tr><td class=\"confluenceTd\"><p>매서드</p></td><td class=\"confluenceTd\"><p>GET</p></td><td class=\"confluenceTd\"><p></p></td></tr><tr><td class=\"confluenceTd\"><p>Query 파라미터1</p></td><td class=\"confluenceTd\"><p>expand</p></td><td class=\"confluenceTd\"><p>값: body.styled_view</p></td></tr><tr><td class=\"confluenceTd\"><p>호출 목적</p></td><td class=\"confluenceTd\"><p>페이지 html로 export</p></td><td class=\"confluenceTd\"><p></p></td></tr></tbody></table></div>\n"
     ]
    }
   ],
   "source": [
    "from secrets import Secret\n",
    "from makeHtml import MakeHtml\n",
    "\n",
    "secret = Secret()\n",
    "email = secret.email\n",
    "apiKeyConfluence = secret.apiKeyConfluence\n",
    "apiKeyImgbb = secret.apiKeyImgbb\n",
    "userName = 'geunsam2'\n",
    "\n",
    "make1 = MakeHtml()\n",
    "make1.loginProcess(email, apiKeyConfluence, userName, apiKeyImgbb)\n",
    "make1.getSpaceList()\n",
    "lists = make1.getContentList(\"GEUNSAM2\")\n",
    "\n",
    "make1.getCententHtml('8880168')\n",
    "make1.rebuildFormat()\n",
    "make1.rebuildImgStore()\n",
    "contents = str(make1.htmlSoup)"
   ]
  },
  {
   "cell_type": "code",
   "execution_count": 7,
   "metadata": {},
   "outputs": [
    {
     "name": "stdout",
     "output_type": "stream",
     "text": [
      "https://www.tistory.com/auth/login/?popup=1&redirectUrl=https%3A%2F%2Fwww.tistory.com%2Foauth%2Fauthorize%3Fclient_id%3D1248d0d1dca9f950e085f8cff4bda0f4%26redirect_uri%3Dhttp%253A%252F%252Fykarma1996.tistory.com%252F%26response_type%3Dcode\n",
      "authCode : 51c85710b4f1b37aea925626a4f5f450f16c3ec5cae5270fd03e1c1ee57bb31d846e9807\n",
      "{'ykarma1996': '모두의 근삼이', 'moduboan': '모두의 보안'}\n",
      "{'1107725': 'Marathon_Mesos', '982641': '리눅스', '1011834': '모두의 보안', '1039593': '모두의 보안 1기', '1184515': '개발 이것저것', '1107726': 'Kubernetes', '1039594': '모두의 보안 2기', '1107727': 'Jenkins', '1089407': 'DevOps', '1039595': '모두의 보안 3기', '1107728': 'Docker', '1107730': '미분류', '1107729': 'Ansible', '1011837': 'SYSTEM', '1107731': 'Database', '1011835': 'WEB', '512220': 'IT정보', '826015': '네트워크', '512216': '블로그', '512317': 'Free Chat', '512221': 'Diary'}\n",
      "https://ykarma1996.tistory.com/114\n"
     ]
    }
   ],
   "source": [
    "def main():\n",
    "    ti = Tistory()\n",
    "    ti.getAuthCode()\n",
    "    ti.getAccessToken()\n",
    "    ti.getBlogList()\n",
    "    \n",
    "    #categoName = intput()\n",
    "    blogName = 'ykarma1996'\n",
    "    ti.getcatego(blogName)\n",
    "    \n",
    "    title = 'api 게시물 생성 테스트1'\n",
    "    visibility = 0\n",
    "    category = '512317' # freeCaht\n",
    "    tag = 'testtag1,testtag2'\n",
    "    acceptComment = 1\n",
    "    \n",
    "    ti.postContent(blogName, title, contents, visibility, category, tag, acceptComment)\n",
    "    \n",
    "if __name__ == \"__main__\":\n",
    "    main()"
   ]
  }
 ],
 "metadata": {
  "kernelspec": {
   "display_name": "Python 3",
   "language": "python",
   "name": "python3"
  },
  "language_info": {
   "codemirror_mode": {
    "name": "ipython",
    "version": 3
   },
   "file_extension": ".py",
   "mimetype": "text/x-python",
   "name": "python",
   "nbconvert_exporter": "python",
   "pygments_lexer": "ipython3",
   "version": "3.7.4"
  }
 },
 "nbformat": 4,
 "nbformat_minor": 2
}
